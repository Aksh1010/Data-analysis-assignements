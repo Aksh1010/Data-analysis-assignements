{
 "cells": [
  {
   "cell_type": "markdown",
   "id": "35297a20",
   "metadata": {},
   "source": [
    "## Programming Basic Assignment 7"
   ]
  },
  {
   "cell_type": "markdown",
   "id": "27349114",
   "metadata": {},
   "source": [
    "### 1. Write a Python Program to find sum of array?"
   ]
  },
  {
   "cell_type": "code",
   "execution_count": 1,
   "id": "1cec4452-b272-4d67-9618-86ce624ae402",
   "metadata": {},
   "outputs": [
    {
     "name": "stdout",
     "output_type": "stream",
     "text": [
      "The sum of array is 15\n"
     ]
    }
   ],
   "source": [
    "arr=[1,2,3,4,5]\n",
    "\n",
    "print(\"The sum of array is\",sum(arr))"
   ]
  },
  {
   "cell_type": "markdown",
   "id": "171a980d",
   "metadata": {},
   "source": [
    "### 2. Write a Python Program to find largest element in an array?\n"
   ]
  },
  {
   "cell_type": "code",
   "execution_count": 2,
   "id": "ef84e580-53cc-460d-809a-baf10b3763e1",
   "metadata": {},
   "outputs": [
    {
     "data": {
      "text/plain": [
       "5"
      ]
     },
     "execution_count": 2,
     "metadata": {},
     "output_type": "execute_result"
    }
   ],
   "source": [
    "arr=[1,2,3,4,5]\n",
    "max(arr)"
   ]
  },
  {
   "cell_type": "markdown",
   "id": "21613246",
   "metadata": {},
   "source": [
    "### 3. Write a Python Program for array rotation?"
   ]
  },
  {
   "cell_type": "code",
   "execution_count": 3,
   "id": "ad7c7250-710d-4533-a9d8-a927bca5ec77",
   "metadata": {},
   "outputs": [
    {
     "name": "stdout",
     "output_type": "stream",
     "text": [
      "Rotated array\n",
      "[31, 32, 33, 34, 29, 30]\n"
     ]
    }
   ],
   "source": [
    "\n",
    "def rotatearr(start,end):\n",
    "\n",
    "    n=len(start)\n",
    "\n",
    "    start[:]=start[end:n]+start[0:end]\n",
    "    return start\n",
    "arr = [29, 30, 31, 32, 33, 34]\n",
    "print(\"Rotated array\")\n",
    "print(rotatearr(arr,2))"
   ]
  },
  {
   "cell_type": "markdown",
   "id": "3e52d939",
   "metadata": {},
   "source": [
    "### 4. Write a Python Program to Split the array and add the first part to the end?"
   ]
  },
  {
   "cell_type": "code",
   "execution_count": 4,
   "id": "02ea5042-a698-4aa6-bfd0-eb4e55a04b18",
   "metadata": {},
   "outputs": [
    {
     "name": "stdout",
     "output_type": "stream",
     "text": [
      "30, 40, 50, 60, 70, 80, 90, 100, 10, 20, "
     ]
    }
   ],
   "source": [
    "\n",
    "def splitarray(arr,l,p):\n",
    "    for i in range(0,p):\n",
    "        x= arr[0]\n",
    "\n",
    "        for j in range(0,l-1):\n",
    "            arr[j]=arr[j+1]\n",
    "\n",
    "        arr[l-1]=x\n",
    "\n",
    "arr=[10,20,30,40,50,60,70,80,90,100]\n",
    "\n",
    "l=len(arr)\n",
    "\n",
    "position = 2\n",
    "\n",
    "splitarray(arr,l,position)\n",
    "\n",
    "for i in range(0,l):\n",
    "    print(arr[i],end=', ')"
   ]
  },
  {
   "cell_type": "markdown",
   "id": "aa375779",
   "metadata": {},
   "source": [
    "### 5. Write a Python Program to check if given array is Monotonic?"
   ]
  },
  {
   "cell_type": "code",
   "execution_count": null,
   "id": "a6f3643b-8708-4ba6-96c2-0566931c07d9",
   "metadata": {},
   "outputs": [],
   "source": [
    "def monotunic(X):\n",
    "    return(all(X[i]<=X[i+1]for i in range(len(X)-1)) or\n",
    "           all(X[i]>=X[i+j]for i in range(len(X)-1))) \n",
    "arr=[10,20,30,40,50,60,70,80,90,100]\n",
    "print(monotunic(arr))"
   ]
  }
 ],
 "metadata": {
  "kernelspec": {
   "display_name": "Python 3 (ipykernel)",
   "language": "python",
   "name": "python3"
  },
  "language_info": {
   "codemirror_mode": {
    "name": "ipython",
    "version": 3
   },
   "file_extension": ".py",
   "mimetype": "text/x-python",
   "name": "python",
   "nbconvert_exporter": "python",
   "pygments_lexer": "ipython3",
   "version": "3.9.13"
  }
 },
 "nbformat": 4,
 "nbformat_minor": 5
}
