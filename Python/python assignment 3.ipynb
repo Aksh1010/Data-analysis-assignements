{
 "cells": [
  {
   "cell_type": "markdown",
   "id": "3640b942-17b3-45e7-bf6b-0be70e2f0e1b",
   "metadata": {
    "id": "ad3c798a"
   },
   "source": [
    "## Programming Assignment_3\n",
    "----------------"
   ]
  },
  {
   "cell_type": "markdown",
   "id": "fdeb4706",
   "metadata": {
    "id": "fdeb4706",
    "tags": []
   },
   "source": [
    "### 1. Write a Python Program to Check if a Number is Positive, Negative or Zero?"
   ]
  },
  {
   "cell_type": "code",
   "execution_count": 4,
   "id": "d0a6194d-3997-4370-8401-d8449096dd5a",
   "metadata": {},
   "outputs": [
    {
     "name": "stdin",
     "output_type": "stream",
     "text": [
      "Enter a number:  5\n"
     ]
    },
    {
     "name": "stdout",
     "output_type": "stream",
     "text": [
      "Positive number\n"
     ]
    }
   ],
   "source": [
    "num = float(input(\"Enter a number: \"))\n",
    "if num > 0:\n",
    "    print(\"Positive number\")\n",
    "elif num == 0:\n",
    "    print (\"This no is Zero\")\n",
    "else:print(\"Negative number\")"
   ]
  },
  {
   "cell_type": "markdown",
   "id": "086bfded",
   "metadata": {
    "id": "086bfded",
    "tags": []
   },
   "source": [
    "### 2. Write a Python Program to Check if a Number is Odd or Even?\n"
   ]
  },
  {
   "cell_type": "code",
   "execution_count": 5,
   "id": "33fd7c98-02bc-4c69-b8d8-e61ae9ca3a63",
   "metadata": {},
   "outputs": [
    {
     "name": "stdin",
     "output_type": "stream",
     "text": [
      "Enter a number:  5\n"
     ]
    },
    {
     "name": "stdout",
     "output_type": "stream",
     "text": [
      "5 is Odd\n"
     ]
    }
   ],
   "source": [
    "num = int(input(\"Enter a number: \"))\n",
    "if (num % 2) == 0:\n",
    "   print(\"{0} is Even\".format(num))\n",
    "else:\n",
    "   print(\"{0} is Odd\".format(num))"
   ]
  },
  {
   "cell_type": "markdown",
   "id": "575e4f94",
   "metadata": {
    "id": "575e4f94"
   },
   "source": [
    "\\### 3. Write a Python Program to Check Leap Year?\n"
   ]
  },
  {
   "cell_type": "code",
   "execution_count": 9,
   "id": "fb33a919-7139-4af8-b805-d8b5ea9f368f",
   "metadata": {},
   "outputs": [
    {
     "name": "stdout",
     "output_type": "stream",
     "text": [
      "2000 is a leap year\n"
     ]
    }
   ],
   "source": [
    "year = 2000\n",
    "if (year % 400 == 0) and (year % 100 == 0):\n",
    "    print(\"{0} is a leap year\".format(year))\n",
    "elif (year% 100 ==0) and (year % 100 !=0):\n",
    "    print(\"{0} is a leap year\".format(year))\n",
    "else:\n",
    "    print(\"{0} is not a leap year\".format(year))\n",
    "        "
   ]
  },
  {
   "cell_type": "markdown",
   "id": "aa83ce63",
   "metadata": {
    "id": "aa83ce63",
    "tags": []
   },
   "source": [
    "### 4. Write a Python Program to Check Prime Number?"
   ]
  },
  {
   "cell_type": "code",
   "execution_count": 47,
   "id": "b60822a5-20a6-43ae-9ee7-6bd11f750fb5",
   "metadata": {},
   "outputs": [
    {
     "name": "stdin",
     "output_type": "stream",
     "text": [
      "Enter any number:  15\n"
     ]
    },
    {
     "name": "stdout",
     "output_type": "stream",
     "text": [
      "15 is not a prime number\n"
     ]
    }
   ],
   "source": [
    "number = int(input(\"Enter any number: \"))\n",
    "\n",
    "if number > 1:\n",
    "    for i in range(2, number):\n",
    "        if (number % i) == 0:\n",
    "            print(number, \"is not a prime number\")\n",
    "            break\n",
    "    else:\n",
    "        print(number, \"is a prime number\")\n",
    "else:\n",
    "    print(number, \"is not a prime number\")"
   ]
  },
  {
   "cell_type": "markdown",
   "id": "b44b54ff",
   "metadata": {
    "id": "b44b54ff"
   },
   "source": [
    "### 5. Write a Python Program to Print all Prime Numbers in an Interval of 1-10000?"
   ]
  },
  {
   "cell_type": "code",
   "execution_count": 45,
   "id": "11e18f16-88e6-4fcb-990f-e0112c18d6f3",
   "metadata": {},
   "outputs": [
    {
     "name": "stdin",
     "output_type": "stream",
     "text": [
      "Please, Enter the Lowest Range Value:  4\n",
      "Please, Enter the Upper Range Value:  8\n"
     ]
    },
    {
     "name": "stdout",
     "output_type": "stream",
     "text": [
      "The Prime Numbers in the range are: \n",
      "5\n",
      "7\n"
     ]
    }
   ],
   "source": [
    "lower_value = int(input (\"Please, Enter the Lowest Range Value: \"))  \n",
    "upper_value = int(input (\"Please, Enter the Upper Range Value: \"))  \n",
    "  \n",
    "print (\"The Prime Numbers in the range are: \")  \n",
    "for number in range (lower_value, upper_value + 1):  \n",
    "    if number > 1:  \n",
    "        for i in range (2, number):  \n",
    "            if (number % i) == 0:  \n",
    "                break  \n",
    "        else:  \n",
    "            print (number)  "
   ]
  },
  {
   "cell_type": "code",
   "execution_count": null,
   "id": "e33903f4-c3d1-4149-bc16-df9476e45e10",
   "metadata": {},
   "outputs": [],
   "source": []
  },
  {
   "cell_type": "code",
   "execution_count": null,
   "id": "ddb015c2-1644-4a95-95f2-06857360336e",
   "metadata": {},
   "outputs": [],
   "source": []
  }
 ],
 "metadata": {
  "colab": {
   "provenance": []
  },
  "kernelspec": {
   "display_name": "Python 3 (ipykernel)",
   "language": "python",
   "name": "python3"
  },
  "language_info": {
   "codemirror_mode": {
    "name": "ipython",
    "version": 3
   },
   "file_extension": ".py",
   "mimetype": "text/x-python",
   "name": "python",
   "nbconvert_exporter": "python",
   "pygments_lexer": "ipython3",
   "version": "3.9.13"
  }
 },
 "nbformat": 4,
 "nbformat_minor": 5
}
