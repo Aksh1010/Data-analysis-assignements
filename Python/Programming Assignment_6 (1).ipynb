{
 "cells": [
  {
   "cell_type": "markdown",
   "id": "84a41a9f",
   "metadata": {
    "tags": []
   },
   "source": [
    "# Programming Basic Assignment 6"
   ]
  },
  {
   "cell_type": "markdown",
   "id": "a4b40558",
   "metadata": {},
   "source": [
    "### 1. Write a Python Program to Display Fibonacci Sequence Using Recursion?"
   ]
  },
  {
   "cell_type": "code",
   "execution_count": 18,
   "id": "0770b599-4342-4bcf-9308-bdb35ba90024",
   "metadata": {},
   "outputs": [
    {
     "name": "stdout",
     "output_type": "stream",
     "text": [
      "Fibonacci sequence:\n",
      "0\n",
      "1\n",
      "1\n",
      "2\n",
      "3\n",
      "5\n",
      "8\n",
      "13\n",
      "21\n",
      "34\n"
     ]
    }
   ],
   "source": [
    "def recur_fibo(n):\n",
    "    if n <= 1:\n",
    "        return n\n",
    "    else:\n",
    "        return(recur_fibo(n-1) + recur_fibo(n-2))\n",
    "\n",
    "nterms = 10\n",
    "\n",
    "# check if the number of terms is valid\n",
    "if nterms <= 0:\n",
    "    print(\"Plese enter a positive integer\")\n",
    "else:\n",
    "    print(\"Fibonacci sequence:\")\n",
    "    for i in range(nterms):\n",
    "        print(recur_fibo(i))\n",
    "    "
   ]
  },
  {
   "cell_type": "markdown",
   "id": "c2ebc6ee-e419-4788-a6cb-767586f31c28",
   "metadata": {
    "tags": []
   },
   "source": [
    "### 2. Write a Python Program to Find Factorial of Number Using Recursion?"
   ]
  },
  {
   "cell_type": "code",
   "execution_count": 20,
   "id": "f6295b7a-fa5d-484a-8df4-007f382c9a34",
   "metadata": {},
   "outputs": [
    {
     "name": "stdin",
     "output_type": "stream",
     "text": [
      "Enter number 5\n"
     ]
    },
    {
     "name": "stdout",
     "output_type": "stream",
     "text": [
      "The factorial of 5 is 120\n"
     ]
    }
   ],
   "source": [
    "def recur_factorial(n):\n",
    "    if n == 1:\n",
    "        return n\n",
    "    else:\n",
    "        return n*recur_factorial(n-1)\n",
    "\n",
    "num = int(input(\"Enter number\"))\n",
    "\n",
    "# check if the number is negative\n",
    "if num < 0:\n",
    "    print(\"Sorry, factorial does not exist for negative numbers\")\n",
    "elif num == 0:\n",
    "    print(\"The factorial of 0 is 1\")\n",
    "else:\n",
    "    print(\"The factorial of\", num, \"is\", recur_factorial(num))"
   ]
  },
  {
   "cell_type": "markdown",
   "id": "0357b86f",
   "metadata": {
    "tags": []
   },
   "source": [
    "### 3. Write a Python Program to calculate your Body Mass Index?"
   ]
  },
  {
   "cell_type": "code",
   "execution_count": 22,
   "id": "a6f6aab7-6335-4022-922c-1944c9de88b6",
   "metadata": {},
   "outputs": [
    {
     "name": "stdin",
     "output_type": "stream",
     "text": [
      "Enter a number:  5\n"
     ]
    },
    {
     "name": "stdout",
     "output_type": "stream",
     "text": [
      "The factorial of 5 is 120\n"
     ]
    }
   ],
   "source": [
    "def recur_factorial(n):  \n",
    "    if n == 1:  \n",
    "        return n  \n",
    "    else:  \n",
    "        return n*recur_factorial(n-1)  \n",
    "num = int(input(\"Enter a number: \"))  \n",
    "if num < 0:  \n",
    "    print(\"Sorry, factorial does not exist for negative numbers\")  \n",
    "elif num == 0:  \n",
    "    print(\"The factorial of 0 is 1\")  \n",
    "else:  \n",
    "    print(\"The factorial of\",num,\"is\",recur_factorial(num))  "
   ]
  },
  {
   "cell_type": "markdown",
   "id": "96d344a4",
   "metadata": {
    "tags": []
   },
   "source": [
    "### 4. Write a Python Program to calculate the natural logarithm of any number?"
   ]
  },
  {
   "cell_type": "code",
   "execution_count": 31,
   "id": "2231b79a-49de-4652-a3c4-600275e90960",
   "metadata": {},
   "outputs": [
    {
     "name": "stdin",
     "output_type": "stream",
     "text": [
      "Enter the number:  5\n"
     ]
    },
    {
     "name": "stdout",
     "output_type": "stream",
     "text": [
      "The value is: 1.6094379124341003\n"
     ]
    }
   ],
   "source": [
    "import math\n",
    "\n",
    "number = int(input(\"Enter the number: \"))\n",
    "\n",
    "ans = math.log(number)\n",
    "\n",
    "print(\"The value is:\",ans)\n",
    "        \n",
    "    "
   ]
  },
  {
   "cell_type": "markdown",
   "id": "11c0d92c",
   "metadata": {},
   "source": [
    "\n",
    "### 5. Write a Python Program for cube sum of first n natural numbers?\n"
   ]
  },
  {
   "cell_type": "code",
   "execution_count": 32,
   "id": "f0695605-24a1-4edf-adad-848ac3fb339a",
   "metadata": {},
   "outputs": [
    {
     "name": "stdin",
     "output_type": "stream",
     "text": [
      "Enter the number:  6\n"
     ]
    },
    {
     "name": "stdout",
     "output_type": "stream",
     "text": [
      "441\n"
     ]
    }
   ],
   "source": [
    "def sumOfSeries(n):\n",
    "    sum = 0\n",
    "    for i in range(1, n+1):\n",
    "        sum +=i*i*i\n",
    "    return sum\n",
    "n = int(input(\"Enter the number: \"))\n",
    "print(sumOfSeries(n))"
   ]
  },
  {
   "cell_type": "code",
   "execution_count": null,
   "id": "da1cf8af-6acd-4ac7-9aff-9a14c8688f90",
   "metadata": {},
   "outputs": [],
   "source": []
  }
 ],
 "metadata": {
  "kernelspec": {
   "display_name": "Python 3 (ipykernel)",
   "language": "python",
   "name": "python3"
  },
  "language_info": {
   "codemirror_mode": {
    "name": "ipython",
    "version": 3
   },
   "file_extension": ".py",
   "mimetype": "text/x-python",
   "name": "python",
   "nbconvert_exporter": "python",
   "pygments_lexer": "ipython3",
   "version": "3.9.13"
  }
 },
 "nbformat": 4,
 "nbformat_minor": 5
}
