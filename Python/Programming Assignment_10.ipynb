{
 "cells": [
  {
   "cell_type": "markdown",
   "id": "3dcb940f",
   "metadata": {},
   "source": [
    "## Python Basic Programming Assignment 10"
   ]
  },
  {
   "cell_type": "markdown",
   "id": "6720790a",
   "metadata": {},
   "source": [
    "### 1. Write a Python program to find sum of elements in list?"
   ]
  },
  {
   "cell_type": "code",
   "execution_count": null,
   "id": "7dcdfb7d-9b34-4465-8fef-46babc1efcf9",
   "metadata": {},
   "outputs": [
    {
     "name": "stdin",
     "output_type": "stream",
     "text": [
      "Enter the No of Entries in a List:  5\n",
      " 4\n",
      " 5\n",
      " 5\n",
      " 5\n",
      " 5\n"
     ]
    },
    {
     "name": "stdout",
     "output_type": "stream",
     "text": [
      "Enter a element  [4, 5, 5, 5, 5]\n",
      "Sum of elements 24\n"
     ]
    }
   ],
   "source": [
    "n = int(input(\"Enter the No of Entries in a List: \"))\n",
    "lst = []\n",
    "l = lst\n",
    "\n",
    "for i in range(n):\n",
    "    lst.append(int(input()))\n",
    "print(\"Enter a element \",lst)\n",
    "print(\"Sum of elements\",sum(l))"
   ]
  },
  {
   "cell_type": "markdown",
   "id": "fe1137c3",
   "metadata": {},
   "source": [
    "### 2. Write a Python program to  Multiply all numbers in the list?"
   ]
  },
  {
   "cell_type": "code",
   "execution_count": 2,
   "id": "e763e787-2616-447b-a524-c201daab8243",
   "metadata": {},
   "outputs": [
    {
     "name": "stdin",
     "output_type": "stream",
     "text": [
      "Enter the No of Entries in a List:  5\n",
      "Enter a element:  5\n",
      "Enter a element:  5\n",
      "Enter a element:  5\n",
      "Enter a element:  5\n",
      "Enter a element:  6\n"
     ]
    },
    {
     "name": "stdout",
     "output_type": "stream",
     "text": [
      "3750\n"
     ]
    }
   ],
   "source": [
    "def mulofList():\n",
    "    size = int(input('Enter the No of Entries in a List: '))\n",
    "    list = []\n",
    "    mul = 1\n",
    "    for itr in range(size):\n",
    "        list.append(int(input('Enter a element: ')))\n",
    "    for size in list:\n",
    "        mul = mul * size\n",
    "    print(mul)\n",
    "\n",
    "mulofList()"
   ]
  },
  {
   "cell_type": "markdown",
   "id": "078681db",
   "metadata": {},
   "source": [
    "### 3. Write a Python program to find smallest number in a list?"
   ]
  },
  {
   "cell_type": "code",
   "execution_count": 3,
   "id": "5ec1fb90-ff97-4d19-9da0-48b1b8fa6b2d",
   "metadata": {},
   "outputs": [
    {
     "name": "stdin",
     "output_type": "stream",
     "text": [
      "Enter the No of elements in a list:  4\n",
      "Enter a Element:  5\n",
      "Enter a Element:  5\n",
      "Enter a Element:  6\n",
      "Enter a Element:  8\n"
     ]
    },
    {
     "name": "stdout",
     "output_type": "stream",
     "text": [
      "The Smallest Element in [5, 5, 6, 8] = 5\n"
     ]
    }
   ],
   "source": [
    "def smallElementInList():\n",
    "    size = int(input('Enter the No of elements in a list: '))\n",
    "    list = []\n",
    "    for i in range(size):\n",
    "        list.append(int(input('Enter a Element: ')))\n",
    "    print(f'The Smallest Element in {list} = {sorted(list)[0]}')\n",
    "smallElementInList()"
   ]
  },
  {
   "cell_type": "markdown",
   "id": "12b04397",
   "metadata": {},
   "source": [
    "### 4. Write a Python program to find largest number in a list?"
   ]
  },
  {
   "cell_type": "code",
   "execution_count": 1,
   "id": "bd3dc792-ce67-4ed5-babd-6b20f681b252",
   "metadata": {},
   "outputs": [
    {
     "name": "stdin",
     "output_type": "stream",
     "text": [
      "Enter the No of elements in a list:  5\n",
      "Enter a Element:  4\n",
      "Enter a Element:  5\n",
      "Enter a Element:  6\n",
      "Enter a Element:  8\n",
      "Enter a Element:  5\n"
     ]
    },
    {
     "name": "stdout",
     "output_type": "stream",
     "text": [
      "The Largest Element in [4, 5, 6, 8, 5] = 8\n"
     ]
    }
   ],
   "source": [
    "def largestElementInList():\n",
    "    size = int(input('Enter the No of elements in a list: '))\n",
    "    list = []\n",
    "    for i in range(size):\n",
    "        list.append(int(input('Enter a Element: ')))\n",
    "    print(f'The Largest Element in {list} = {sorted(list, reverse=True)[0]}')\n",
    "largestElementInList()"
   ]
  },
  {
   "cell_type": "markdown",
   "id": "86442b51",
   "metadata": {},
   "source": [
    "### 5. Write a Python program to find second largest number in a list?"
   ]
  },
  {
   "cell_type": "code",
   "execution_count": 2,
   "id": "f54d9e0f-ce7c-44e9-9641-5671e44d3232",
   "metadata": {},
   "outputs": [
    {
     "name": "stdin",
     "output_type": "stream",
     "text": [
      "Enter the No of elements in a list:  4\n",
      "Enter a Element:  2\n",
      "Enter a Element:  5\n",
      "Enter a Element:  6\n",
      "Enter a Element:  8\n"
     ]
    },
    {
     "name": "stdout",
     "output_type": "stream",
     "text": [
      "The Largest Element in [2, 5, 6, 8] = 8\n"
     ]
    }
   ],
   "source": [
    "def largestElementInList():\n",
    "    size = int(input('Enter the No of elements in a list: '))\n",
    "    list = []\n",
    "    for i in range(size):\n",
    "        list.append(int(input('Enter a Element: ')))\n",
    "    print(f'The Largest Element in {list} = {sorted(list, reverse=True)[0]}')\n",
    "largestElementInList()"
   ]
  },
  {
   "cell_type": "markdown",
   "id": "10964d7d",
   "metadata": {},
   "source": [
    "### 6. Write a Python program to find N largest elements from a list?"
   ]
  },
  {
   "cell_type": "code",
   "execution_count": 3,
   "id": "8dee119a-9ff1-41c2-bb50-18482d65e687",
   "metadata": {},
   "outputs": [
    {
     "name": "stdin",
     "output_type": "stream",
     "text": [
      "Enter the No of elements in a list:  5\n",
      "Enter a Element:  1\n",
      "Enter a Element:  4\n",
      "Enter a Element:  5\n",
      "Enter a Element:  6\n",
      "Enter a Element:  7\n"
     ]
    },
    {
     "name": "stdout",
     "output_type": "stream",
     "text": [
      "The 2 Largest Element in [1, 4, 5, 6, 7] = [7, 6]\n"
     ]
    }
   ],
   "source": [
    "def nLargestElementInList(k):\n",
    "    size = int(input('Enter the No of elements in a list: '))\n",
    "    list = []\n",
    "    for i in range(size):\n",
    "        list.append(int(input('Enter a Element: ')))\n",
    "    print(f'The {k} Largest Element in {list} = {sorted(list, reverse=True)[0:k]}')\n",
    "nLargestElementInList(2)"
   ]
  },
  {
   "cell_type": "markdown",
   "id": "2f1a1e98",
   "metadata": {},
   "source": [
    "### 7. Write a Python program to print even numbers in a list?"
   ]
  },
  {
   "cell_type": "code",
   "execution_count": null,
   "id": "d869e499-7134-4e72-b078-bc64265d521f",
   "metadata": {},
   "outputs": [
    {
     "name": "stdin",
     "output_type": "stream",
     "text": [
      "Enter the No of elements in a list:  4\n",
      "Enter a Element:  2\n",
      "Enter a Element:  4\n",
      "Enter a Element:  5\n",
      "Enter a Element:  8\n"
     ]
    },
    {
     "name": "stdout",
     "output_type": "stream",
     "text": [
      "The Even Elements in [2, 4, 5, 8] = [2, 4, 8]\n"
     ]
    }
   ],
   "source": [
    "def evenNoInList():\n",
    "    size = int(input('Enter the No of elements in a list: '))\n",
    "    list = []\n",
    "    even_list = []\n",
    "    for i in range(size):\n",
    "        list.append(int(input('Enter a Element: ')))\n",
    "    for i in list:\n",
    "        if i%2 == 0:\n",
    "            even_list.append(i)\n",
    "    print(f'The Even Elements in {list} = {even_list}')\n",
    "\n",
    "evenNoInList()"
   ]
  },
  {
   "cell_type": "markdown",
   "id": "989bb324",
   "metadata": {},
   "source": [
    "### 8. Write a Python program to print odd numbers in a List?"
   ]
  },
  {
   "cell_type": "code",
   "execution_count": 6,
   "id": "7cea88ac-81c3-4bff-acc9-ada8a183245c",
   "metadata": {},
   "outputs": [
    {
     "name": "stdin",
     "output_type": "stream",
     "text": [
      "Enter the No of elements in a list:  5\n",
      "Enter a Element:  45\n",
      "Enter a Element:  5\n",
      "Enter a Element:  5\n",
      "Enter a Element:  8\n",
      "Enter a Element:  6\n"
     ]
    },
    {
     "name": "stdout",
     "output_type": "stream",
     "text": [
      "The odd Elements in [45, 5, 5, 8, 6] = [45, 5, 5]\n"
     ]
    }
   ],
   "source": [
    "def oddNoInList():\n",
    "    size = int(input('Enter the No of elements in a list: '))\n",
    "    list = []\n",
    "    odd_list = []\n",
    "    for i in range(size):\n",
    "        list.append(int(input('Enter a Element: ')))\n",
    "    for i in list:\n",
    "        if i%2 != 0:\n",
    "            odd_list.append(i)\n",
    "    print(f'The odd Elements in {list} = {odd_list}')\n",
    "\n",
    "oddNoInList()"
   ]
  },
  {
   "cell_type": "markdown",
   "id": "185b7b13",
   "metadata": {},
   "source": [
    "### 9. Write a Python program to Remove empty List from List?"
   ]
  },
  {
   "cell_type": "code",
   "execution_count": 7,
   "id": "de85fb42-5b14-4742-8460-fd6d25baecea",
   "metadata": {},
   "outputs": [
    {
     "name": "stdout",
     "output_type": "stream",
     "text": [
      "The List : [1, [], 2, 3, [], 4, 5]\n",
      "The list after removing empty list\n",
      "[1, 2, 3, 4, 5]\n"
     ]
    }
   ],
   "source": [
    "lst = [1,[],2,3,[],4,5]\n",
    "print(\"The List :\",lst)\n",
    "removeEmptylist = [ele for ele in lst if ele != []]\n",
    "print(\"The list after removing empty list\")\n",
    "print(removeEmptylist)"
   ]
  },
  {
   "cell_type": "markdown",
   "id": "278cfacc",
   "metadata": {},
   "source": [
    "### 10. Write a Python program to Cloning or Copying a list?"
   ]
  },
  {
   "cell_type": "code",
   "execution_count": 12,
   "id": "2a0bc69c-8341-42a9-b0d5-146bd38b53a2",
   "metadata": {},
   "outputs": [
    {
     "name": "stdin",
     "output_type": "stream",
     "text": [
      "Enter a list [8,2,4,5,8]\n"
     ]
    },
    {
     "name": "stdout",
     "output_type": "stream",
     "text": [
      "[8, 2, 4, 5, 8] 1585818594176\n",
      "[8, 2, 4, 5, 8] 1585818359616\n"
     ]
    }
   ],
   "source": [
    "import copy\n",
    "\n",
    "def cloneList():\n",
    "    list = eval(input('Enter a list'))\n",
    "    print(list, id(list))\n",
    "    cloned_list = list.copy()\n",
    "    print(cloned_list, id(cloned_list))\n",
    "\n",
    "cloneList()"
   ]
  },
  {
   "cell_type": "markdown",
   "id": "b359bedf",
   "metadata": {},
   "source": [
    "### 11. Write a Python program to Count occurrences of an element in a list?"
   ]
  },
  {
   "cell_type": "code",
   "execution_count": 11,
   "id": "580830e1-b2a5-45d6-bf80-91586f2b2898",
   "metadata": {},
   "outputs": [
    {
     "name": "stdin",
     "output_type": "stream",
     "text": [
      "Enter the elements of the list:  [1,2,2,3,4]\n",
      "Enter the element to find:  2\n"
     ]
    },
    {
     "name": "stdout",
     "output_type": "stream",
     "text": [
      "There are 2 occurences of 2 in [1, 2, 2, 3, 4]\n"
     ]
    }
   ],
   "source": [
    "def checkOccurence():\n",
    "    list = eval(input('Enter the elements of the list: '))\n",
    "    num = eval(input('Enter the element to find: '))\n",
    "    count = 0\n",
    "    if num in list:\n",
    "        for i in list:\n",
    "            if i == num:\n",
    "                count = count+1\n",
    "    print(f'There are {count} occurences of {num} in {list}')\n",
    "checkOccurence()"
   ]
  },
  {
   "cell_type": "code",
   "execution_count": null,
   "id": "f83e6a71-8db6-46d5-ba78-485c535a03b6",
   "metadata": {},
   "outputs": [],
   "source": []
  }
 ],
 "metadata": {
  "kernelspec": {
   "display_name": "Python 3 (ipykernel)",
   "language": "python",
   "name": "python3"
  },
  "language_info": {
   "codemirror_mode": {
    "name": "ipython",
    "version": 3
   },
   "file_extension": ".py",
   "mimetype": "text/x-python",
   "name": "python",
   "nbconvert_exporter": "python",
   "pygments_lexer": "ipython3",
   "version": "3.9.13"
  }
 },
 "nbformat": 4,
 "nbformat_minor": 5
}
